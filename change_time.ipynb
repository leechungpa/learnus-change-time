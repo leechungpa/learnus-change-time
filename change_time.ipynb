{
 "cells": [
  {
   "cell_type": "markdown",
   "id": "200a8b3b",
   "metadata": {},
   "source": [
    "# import and setting"
   ]
  },
  {
   "cell_type": "code",
   "execution_count": 3,
   "id": "05ecdb8a",
   "metadata": {},
   "outputs": [],
   "source": [
    "from selenium import webdriver\n",
    "from bs4 import BeautifulSoup\n",
    "import re\n",
    "import requests\n",
    "import os\n",
    "import time\n",
    "import numpy as np"
   ]
  },
  {
   "cell_type": "code",
   "execution_count": 4,
   "id": "1ac12600",
   "metadata": {},
   "outputs": [],
   "source": [
    "url = 'https://www.learnus.org/'"
   ]
  },
  {
   "cell_type": "markdown",
   "id": "9bcc053c",
   "metadata": {},
   "source": [
    "# 로그인"
   ]
  },
  {
   "cell_type": "code",
   "execution_count": 5,
   "id": "755b5b6e",
   "metadata": {},
   "outputs": [],
   "source": [
    "browser = webdriver.Chrome('./chromedriver')\n",
    "browser.get(url)"
   ]
  },
  {
   "cell_type": "markdown",
   "id": "88d31a82",
   "metadata": {},
   "source": [
    "# 해당 강좌로 이동"
   ]
  },
  {
   "cell_type": "code",
   "execution_count": 6,
   "id": "03ecb95e",
   "metadata": {},
   "outputs": [],
   "source": [
    "htmldata = browser.page_source\n",
    "soup = BeautifulSoup(htmldata,'html.parser')\n",
    "html = soup.find_all('a',class_='dropdown-item editing_update menu-action cm-edit-action')\n",
    "url_list = []\n",
    "for cnt in html:\n",
    "        url_list.append(cnt.get('href'))"
   ]
  },
  {
   "cell_type": "code",
   "execution_count": 78,
   "id": "097ef53b",
   "metadata": {
    "scrolled": true
   },
   "outputs": [
    {
     "data": {
      "text/plain": [
       "'https://www.learnus.org/course/mod.php?sesskey=xfcgpTbMry&sr=0&update=2355777'"
      ]
     },
     "execution_count": 78,
     "metadata": {},
     "output_type": "execute_result"
    }
   ],
   "source": [
    "url_list[6]"
   ]
  },
  {
   "cell_type": "markdown",
   "id": "2a79791d",
   "metadata": {},
   "source": [
    "# 각 일자 변경"
   ]
  },
  {
   "cell_type": "code",
   "execution_count": 79,
   "id": "coated-baseline",
   "metadata": {},
   "outputs": [
    {
     "ename": "SyntaxError",
     "evalue": "unexpected EOF while parsing (<ipython-input-79-bb87f0e7f8ff>, line 1)",
     "output_type": "error",
     "traceback": [
      "\u001b[1;36m  File \u001b[1;32m\"<ipython-input-79-bb87f0e7f8ff>\"\u001b[1;36m, line \u001b[1;32m1\u001b[0m\n\u001b[1;33m    for cnt in url_list[6:]:\u001b[0m\n\u001b[1;37m                            ^\u001b[0m\n\u001b[1;31mSyntaxError\u001b[0m\u001b[1;31m:\u001b[0m unexpected EOF while parsing\n"
     ]
    }
   ],
   "source": [
    "for cnt in url_list[6:]:\n",
    "    browser.get(cnt)\n",
    "    time.sleep(3)\n",
    "    \n",
    "    browser.find_element_by_xpath(\"//a[@aria-controls='id_availabilityconditionsheader']\").click()\n",
    "    \n",
    "    time.sleep(1)\n",
    "    \n",
    "    browser.find_element_by_xpath(\"//option[@value='<']\").click()\n",
    "    browser.find_element_by_xpath(\"//option[@value='2021']\").click()\n",
    "    browser.find_element_by_xpath(\"//option[@value='10']\").click()\n",
    "    browser.find_element_by_xpath(\"//option[@value='25']\").click()\n",
    "    \n",
    "    time.sleep(1)\n",
    "    \n",
    "    browser.find_element_by_xpath(\"//input[@value='Save and return to course']\").click()\n"
   ]
  },
  {
   "cell_type": "markdown",
   "id": "32020a0e",
   "metadata": {},
   "source": [
    "# 종료"
   ]
  },
  {
   "cell_type": "code",
   "execution_count": 10,
   "id": "bde6d14c",
   "metadata": {},
   "outputs": [],
   "source": [
    "browser.close()"
   ]
  }
 ],
 "metadata": {
  "kernelspec": {
   "display_name": "Python 3",
   "language": "python",
   "name": "python3"
  },
  "language_info": {
   "codemirror_mode": {
    "name": "ipython",
    "version": 3
   },
   "file_extension": ".py",
   "mimetype": "text/x-python",
   "name": "python",
   "nbconvert_exporter": "python",
   "pygments_lexer": "ipython3",
   "version": "3.7.7"
  },
  "toc": {
   "base_numbering": 1,
   "nav_menu": {},
   "number_sections": true,
   "sideBar": true,
   "skip_h1_title": false,
   "title_cell": "Table of Contents",
   "title_sidebar": "Contents",
   "toc_cell": false,
   "toc_position": {},
   "toc_section_display": true,
   "toc_window_display": false
  },
  "varInspector": {
   "cols": {
    "lenName": 16,
    "lenType": 16,
    "lenVar": 40
   },
   "kernels_config": {
    "python": {
     "delete_cmd_postfix": "",
     "delete_cmd_prefix": "del ",
     "library": "var_list.py",
     "varRefreshCmd": "print(var_dic_list())"
    },
    "r": {
     "delete_cmd_postfix": ") ",
     "delete_cmd_prefix": "rm(",
     "library": "var_list.r",
     "varRefreshCmd": "cat(var_dic_list()) "
    }
   },
   "types_to_exclude": [
    "module",
    "function",
    "builtin_function_or_method",
    "instance",
    "_Feature"
   ],
   "window_display": false
  }
 },
 "nbformat": 4,
 "nbformat_minor": 5
}
